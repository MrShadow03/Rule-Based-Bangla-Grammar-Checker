{
 "cells": [
  {
   "cell_type": "code",
   "execution_count": 9,
   "metadata": {},
   "outputs": [
    {
     "name": "stdout",
     "output_type": "stream",
     "text": [
      "Bangla dictionary loaded successfully\n",
      "﻿অগ্রদানী\n"
     ]
    }
   ],
   "source": [
    "class PosTagger:\n",
    "    def __init__(self, dict_path):\n",
    "        self.pos_tags = [\"NOUN\"]\n",
    "        self.bangla_dict = {}\n",
    "        self.load_bangla_dict(dict_path)\n",
    "\n",
    "    def load_bangla_dict(self, file_path):\n",
    "        with open(file_path, \"r\", encoding='utf-8') as file:\n",
    "            i = 0\n",
    "            for line in file:\n",
    "                self.bangla_dict.update({i: line.strip()})\n",
    "                i += 1\n",
    "            print(\"Bangla dictionary loaded successfully\")\n",
    "\n",
    "    def get_dict(self):\n",
    "        return self.bangla_dict\n",
    "    \n",
    "\n",
    "tagger = PosTagger(\"./data/bangla_word_huge_dataset.csv\")\n",
    "bangla_dict = tagger.get_dict()\n",
    "\n",
    "print(bangla_dict[0])"
   ]
  }
 ],
 "metadata": {
  "kernelspec": {
   "display_name": ".venv",
   "language": "python",
   "name": "python3"
  },
  "language_info": {
   "codemirror_mode": {
    "name": "ipython",
    "version": 3
   },
   "file_extension": ".py",
   "mimetype": "text/x-python",
   "name": "python",
   "nbconvert_exporter": "python",
   "pygments_lexer": "ipython3",
   "version": "3.13.2"
  }
 },
 "nbformat": 4,
 "nbformat_minor": 2
}
